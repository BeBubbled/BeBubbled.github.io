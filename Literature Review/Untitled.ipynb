{
 "cells": [
  {
   "cell_type": "markdown",
   "id": "2811b759-891e-455e-8c39-5f4008907cf4",
   "metadata": {},
   "source": [
    "# 文献标题"
   ]
  },
  {
   "cell_type": "markdown",
   "id": "c3ab744b-c05c-476c-b898-720b790c7ff0",
   "metadata": {},
   "source": [
    "## 作者 时间"
   ]
  },
  {
   "cell_type": "markdown",
   "id": "c25a7350-e3f9-4106-a059-3852129f2a84",
   "metadata": {},
   "source": []
  },
  {
   "cell_type": "code",
   "execution_count": null,
   "id": "2597056e-164a-42ba-aaac-818de452ac20",
   "metadata": {},
   "outputs": [],
   "source": []
  },
  {
   "cell_type": "code",
   "execution_count": null,
   "id": "7725af4d-714c-4267-a76a-d9de2a7186ee",
   "metadata": {},
   "outputs": [],
   "source": []
  },
  {
   "cell_type": "code",
   "execution_count": null,
   "id": "0d3c3cc2-e9a3-4d9f-beaf-bf6f734c33b9",
   "metadata": {},
   "outputs": [],
   "source": []
  },
  {
   "cell_type": "code",
   "execution_count": null,
   "id": "234e0cd9-52cb-4f7d-a23a-2fc3bfb22e44",
   "metadata": {},
   "outputs": [],
   "source": []
  },
  {
   "cell_type": "code",
   "execution_count": null,
   "id": "23603ea0-cc70-462b-aa49-9356cc9f51b6",
   "metadata": {},
   "outputs": [],
   "source": []
  },
  {
   "cell_type": "code",
   "execution_count": null,
   "id": "f7c75845-c05c-45f6-a777-e153bc0f93fb",
   "metadata": {},
   "outputs": [],
   "source": []
  }
 ],
 "metadata": {
  "kernelspec": {
   "display_name": "Python 3 (ipykernel)",
   "language": "python",
   "name": "python3"
  },
  "language_info": {
   "codemirror_mode": {
    "name": "ipython",
    "version": 3
   },
   "file_extension": ".py",
   "mimetype": "text/x-python",
   "name": "python",
   "nbconvert_exporter": "python",
   "pygments_lexer": "ipython3",
   "version": "3.9.12"
  }
 },
 "nbformat": 4,
 "nbformat_minor": 5
}
